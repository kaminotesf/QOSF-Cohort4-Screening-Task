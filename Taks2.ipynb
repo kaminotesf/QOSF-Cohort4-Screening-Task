{
 "cells": [
  {
   "cell_type": "markdown",
   "metadata": {},
   "source": [
    "## Task Description\n",
    "\n",
    "Author: Zhixin Song \\\n",
    "Date: 09/25/2021\n",
    "\n",
    "- Prepare 4 random 4-qubit quantum states of your choice.\n",
    "- Create and train a variational circuit that transforms input states into predefined output states. Namely\n",
    "    - if random state 1 is provided, it returns state $|0011\\rangle$\n",
    "    - if random state 2 is provided, it returns state $|0101\\rangle$\n",
    "    - if random state 3 is provided, it returns state $|1010\\rangle$\n",
    "    - if random state 4 is provided, it returns state $|1100\\rangle$\n",
    "    \n",
    "What would happen if you provided a different state?\n",
    "\n",
    "Analyze and discuss the results.\n"
   ]
  },
  {
   "cell_type": "markdown",
   "metadata": {},
   "source": [
    "## Solution -- The approach of Variational Compiling\n",
    "\n",
    "This solution is inspired by: [Sharma, Kunal, et al. \"Noise resilience of variational quantum compiling.\" *New Journal of Physics* 22.4 (2020): 043006.](https://arxiv.org/pdf/1908.04416.pdf)\n",
    "\n",
    "\n",
    "\n",
    "Choose the inital 4 random 4-qubit quantum states as a subset of the computational basis:\n",
    "\n",
    "$$\n",
    "S = \\bigg\\{|1000\\rangle, |0100\\rangle, |0010\\rangle, |0001\\rangle \\bigg\\}.\n",
    "\\tag{1}\n",
    "$$\n",
    "\n",
    "Then, we only need to find and train a paramterized quantum circuit (PQC) to realize the partial transformation:\n",
    "\n",
    "$$\n",
    "U_p|0001\\rangle \\rightarrow |0011\\rangle,~  \n",
    "U_p|0010\\rangle \\rightarrow |0101\\rangle,~\n",
    "U_p|0100\\rangle \\rightarrow |1010\\rangle,~ \n",
    "U_p|1000\\rangle \\rightarrow |1100\\rangle. \n",
    "\\tag{2}\n",
    "$$\n",
    "\n",
    "Or equivalently,\n",
    "$$\n",
    "U_p|1\\rangle \\rightarrow |3\\rangle,~  \n",
    "U_p|2\\rangle \\rightarrow |5\\rangle,~\n",
    "U_p|4\\rangle \\rightarrow |10\\rangle,~ \n",
    "U_p|8\\rangle \\rightarrow |12\\rangle. \n",
    "\\tag{3}\n",
    "$$\n",
    "\n",
    "To make it a complete transformation, let all the other computational basis vectors unchanged.\n",
    "\n",
    "$$\n",
    "|1110\\rangle \\rightarrow |1110\\rangle,~  \n",
    "|0111\\rangle \\rightarrow |0111\\rangle,~\n",
    "|0000\\rangle \\rightarrow |0000\\rangle,~ \n",
    "|1111\\rangle \\rightarrow |1111\\rangle,~ \\cdots\n",
    "\\tag{4}\n",
    "$$\n",
    "\n",
    "We can write this unitary transformation explicitly as:\n",
    "\n",
    "$$\n",
    "U = \n",
    "\\begin{bmatrix}\n",
    "1 &0 &0 &0 &0 &0 &0 &0 &0 &0 &0 &0 &0 &0 &0 &0\\\\\n",
    "0 &0 &0 &1 &0 &0 &0 &0 &0 &0 &0 &0 &0 &0 &0 &0\\\\\n",
    "0 &0 &0 &0 &0 &1 &0 &0 &0 &0 &0 &0 &0 &0 &0 &0\\\\\n",
    "0 &1 &0 &0 &0 &0 &0 &0 &0 &0 &0 &0 &0 &0 &0 &0\\\\\n",
    "0 &0 &0 &0 &0 &0 &0 &0 &0 &0 &1 &0 &0 &0 &0 &0\\\\\n",
    "0 &0 &1 &0 &0 &0 &0 &0 &0 &0 &0 &0 &0 &0 &0 &0\\\\\n",
    "0 &0 &0 &0 &0 &0 &1 &0 &0 &0 &0 &0 &0 &0 &0 &0\\\\\n",
    "0 &0 &0 &0 &0 &0 &0 &1 &0 &0 &0 &0 &0 &0 &0 &0\\\\\n",
    "0 &0 &0 &0 &0 &0 &0 &0 &0 &0 &0 &0 &1 &0 &0 &0\\\\\n",
    "0 &0 &0 &0 &0 &0 &0 &0 &0 &1 &0 &0 &0 &0 &0 &0\\\\\n",
    "0 &0 &0 &0 &1 &0 &0 &0 &0 &0 &0 &0 &0 &0 &0 &0\\\\\n",
    "0 &0 &0 &0 &0 &0 &0 &0 &0 &0 &0 &1 &0 &0 &0 &0\\\\\n",
    "0 &0 &0 &0 &0 &0 &0 &0 &1 &0 &0 &0 &0 &0 &0 &0\\\\\n",
    "0 &0 &0 &0 &0 &0 &0 &0 &0 &0 &0 &0 &0 &1 &0 &0\\\\\n",
    "0 &0 &0 &0 &0 &0 &0 &0 &0 &0 &0 &0 &0 &0 &1 &0\\\\\n",
    "0 &0 &0 &0 &0 &0 &0 &0 &0 &0 &0 &0 &0 &0 &0 &1\n",
    "\\end{bmatrix}.\n",
    "\\tag{5}\n",
    "$$\n",
    "\n",
    "Now, the problem has been converted to how to use a PQC $U(\\vec{\\theta})$ to realize such a transformation."
   ]
  },
  {
   "cell_type": "markdown",
   "metadata": {},
   "source": [
    "## Implementation with Paddle Quantum\n",
    "\n",
    "GitHub Link: https://github.com/PaddlePaddle/Quantum"
   ]
  },
  {
   "cell_type": "code",
   "execution_count": 4,
   "metadata": {},
   "outputs": [],
   "source": [
    "from IPython.display import clear_output\n",
    "!pip install paddle-quantum==2.1.2\n",
    "clear_output()"
   ]
  },
  {
   "cell_type": "code",
   "execution_count": 2,
   "metadata": {},
   "outputs": [
    {
     "name": "stdout",
     "output_type": "stream",
     "text": [
      "[[0. 0. 0. 0. 0. 0. 0. 0. 0. 0. 0. 0. 0. 0. 0. 0.]\n",
      " [0. 0. 0. 0. 0. 0. 0. 0. 0. 0. 0. 0. 0. 0. 0. 0.]\n",
      " [0. 0. 0. 0. 0. 0. 0. 0. 0. 0. 0. 0. 0. 0. 0. 0.]\n",
      " [0. 0. 0. 0. 0. 0. 0. 0. 0. 0. 0. 0. 0. 0. 0. 0.]\n",
      " [0. 0. 0. 0. 0. 0. 0. 0. 0. 0. 0. 0. 0. 0. 0. 0.]\n",
      " [0. 0. 0. 0. 0. 0. 0. 0. 0. 0. 0. 0. 0. 0. 0. 0.]\n",
      " [0. 0. 0. 0. 0. 0. 0. 0. 0. 0. 0. 0. 0. 0. 0. 0.]\n",
      " [0. 0. 0. 0. 0. 0. 0. 0. 0. 0. 0. 0. 0. 0. 0. 0.]\n",
      " [0. 0. 0. 0. 0. 0. 0. 0. 0. 0. 0. 0. 0. 0. 0. 0.]\n",
      " [0. 0. 0. 0. 0. 0. 0. 0. 0. 0. 0. 0. 0. 0. 0. 0.]\n",
      " [0. 0. 0. 0. 0. 0. 0. 0. 0. 0. 0. 0. 0. 0. 0. 0.]\n",
      " [0. 0. 0. 0. 0. 0. 0. 0. 0. 0. 0. 0. 0. 0. 0. 0.]\n",
      " [0. 0. 0. 0. 0. 0. 0. 0. 0. 0. 0. 0. 0. 0. 0. 0.]\n",
      " [0. 0. 0. 0. 0. 0. 0. 0. 0. 0. 0. 0. 0. 0. 0. 0.]\n",
      " [0. 0. 0. 0. 0. 0. 0. 0. 0. 0. 0. 0. 0. 0. 0. 0.]\n",
      " [0. 0. 0. 0. 0. 0. 0. 0. 0. 0. 0. 0. 0. 0. 0. 0.]]\n"
     ]
    }
   ],
   "source": [
    "import numpy as np\n",
    "import paddle\n",
    "from paddle_quantum.circuit import UAnsatz\n",
    "from paddle_quantum.utils import dagger, trace_distance\n",
    "from paddle_quantum.state import density_op_random\n",
    "\n",
    "# Number of qubits\n",
    "N = 4 \n",
    "\n",
    "# The matrix form of U\n",
    "U0 = paddle.to_tensor(np.matrix([[1, 0, 0, 0, 0, 0, 0, 0, 0, 0, 0, 0, 0, 0, 0, 0],\n",
    "                                [0, 0, 0, 1, 0, 0, 0, 0, 0, 0, 0, 0, 0, 0, 0, 0],\n",
    "                                [0, 0, 0, 0, 0, 1, 0, 0, 0, 0, 0, 0, 0, 0, 0, 0],\n",
    "                                [0, 1, 0, 0, 0, 0, 0, 0, 0, 0, 0, 0, 0, 0, 0, 0],\n",
    "                                [0, 0, 0, 0, 0, 0, 0, 0, 0, 0, 1, 0, 0, 0, 0, 0],\n",
    "                                [0, 0, 1, 0, 0, 0, 0, 0, 0, 0, 0, 0, 0, 0, 0, 0],\n",
    "                                [0, 0, 0, 0, 0, 0, 1, 0, 0, 0, 0, 0, 0, 0, 0, 0],\n",
    "                                [0, 0, 0, 0, 0, 0, 0, 1, 0, 0, 0, 0, 0, 0, 0, 0],\n",
    "                                [0, 0, 0, 0, 0, 0, 0, 0, 0, 0, 0, 0, 1, 0, 0, 0],\n",
    "                                [0, 0, 0, 0, 0, 0, 0, 0, 0, 1, 0, 0, 0, 0, 0, 0],\n",
    "                                [0, 0, 0, 0, 1, 0, 0, 0, 0, 0, 0, 0, 0, 0, 0, 0],\n",
    "                                [0, 0, 0, 0, 0, 0, 0, 0, 0, 0, 0, 1, 0, 0, 0, 0],\n",
    "                                [0, 0, 0, 0, 0, 0, 0, 0, 1, 0, 0, 0, 0, 0, 0, 0],\n",
    "                                [0, 0, 0, 0, 0, 0, 0, 0, 0, 0, 0, 0, 0, 1, 0, 0],\n",
    "                                [0, 0, 0, 0, 0, 0, 0, 0, 0, 0, 0, 0, 0, 0, 1, 0],\n",
    "                                [0, 0, 0, 0, 0, 0, 0, 0, 0, 0, 0, 0, 0, 0, 0, 1]],\n",
    "                       dtype=\"float64\"))\n",
    "\n",
    "# Check this is a unitary matrix\n",
    "print(U0.numpy()@dagger(U0).numpy() - np.eye(2**N))"
   ]
  },
  {
   "cell_type": "markdown",
   "metadata": {},
   "source": [
    "### PQC "
   ]
  },
  {
   "cell_type": "code",
   "execution_count": 10,
   "metadata": {},
   "outputs": [],
   "source": [
    "# Constructing a parametried quantum circuit\n",
    "def V_theta(theta, N, D):\n",
    "    # Initialize the quantum circuit\n",
    "    cir = UAnsatz(N)\n",
    "    # Call the built-in template {Ry rotation on each qubit + adjacent CX gates}x Depth D\n",
    "    cir.real_entangled_layer(theta[:D], D)\n",
    "\n",
    "    return cir"
   ]
  },
  {
   "cell_type": "markdown",
   "metadata": {},
   "source": [
    "### Loss function\n",
    "\n",
    "Here, we use trace distance to evalute the training process:\n",
    "\n",
    "$$\n",
    "\\mathcal{L}(\\vec{\\theta}) (U, V_\\theta)= 1 - \\frac{1}{d^2}\\big|tr(UV_\\theta^\\dagger)\\big|^2.\n",
    "\\tag{6}\n",
    "$$"
   ]
  },
  {
   "cell_type": "code",
   "execution_count": 11,
   "metadata": {},
   "outputs": [],
   "source": [
    "# Training loss function\n",
    "class Net(paddle.nn.Layer):\n",
    "    def __init__(self, shape, dtype=\"float64\", ):\n",
    "        super(Net, self).__init__()\n",
    "\n",
    "        self.theta = self.create_parameter(shape=shape,\n",
    "                                           default_initializer=paddle.nn.initializer.Uniform(low=0.0, high=2 * np.pi),\n",
    "                                           dtype=dtype, is_bias=False)\n",
    "\n",
    "    def forward(self, N, D):\n",
    "        \n",
    "        # Read out the matrix representation of PQC\n",
    "        cir = V_theta(self.theta, N, D)\n",
    "        V = cir.U\n",
    "        \n",
    "        # Define the loss function\n",
    "        loss = 1 - (dagger(V).matmul(U0).trace().abs() / V.shape[0]) ** 2\n",
    "\n",
    "        return loss, cir "
   ]
  },
  {
   "cell_type": "code",
   "execution_count": 30,
   "metadata": {},
   "outputs": [
    {
     "name": "stdout",
     "output_type": "stream",
     "text": [
      "iter: 20 loss: 0.0604\n",
      "iter: 40 loss: 0.0126\n",
      "iter: 60 loss: 0.0135\n",
      "iter: 80 loss: 0.0005\n",
      "iter: 100 loss: 0.0035\n"
     ]
    }
   ],
   "source": [
    "D = 40      # Set the depth of PQC\n",
    "LR = 0.25   # Set the learning rate\n",
    "ITR = 100   # Set the number of optimization iterations\n",
    "\n",
    "# Determine shape of parameters\n",
    "net = Net(shape=[D + 1, N, 1])\n",
    "# Using Adam optimizer \n",
    "opt = paddle.optimizer.Adam(learning_rate=LR, parameters=net.parameters())\n",
    "\n",
    "# Optimization loop\n",
    "for itr in range(1, ITR + 1):\n",
    "    loss, cir = net.forward(N, D)\n",
    "    \n",
    "    # Backpropagation with automatic differentiation\n",
    "    loss.backward()\n",
    "    opt.minimize(loss)\n",
    "    opt.clear_grad()\n",
    "\n",
    "    # Record Training process\n",
    "    if itr % 20 == 0:\n",
    "        print(\"iter:\", itr, \"loss:\", \"%.4f\" % loss.numpy())"
   ]
  },
  {
   "cell_type": "code",
   "execution_count": 55,
   "metadata": {
    "scrolled": false
   },
   "outputs": [
    {
     "name": "stdout",
     "output_type": "stream",
     "text": [
      "[[ 1.  0. -0. -0.  0.  0.  0.  0. -0. -0.  0.  0. -0. -0. -0.  0.]\n",
      " [ 0.  0.  0.  1.  0.  0. -0.  0. -0. -0. -0. -0.  0. -0. -0.  0.]\n",
      " [-0. -0.  0. -0. -0.  1. -0.  0. -0. -0.  0. -0.  0.  0.  0.  0.]\n",
      " [-0.  1.  0. -0.  0.  0. -0. -0.  0.  0. -0. -0. -0.  0. -0.  0.]\n",
      " [-0.  0.  0.  0.  0. -0.  0.  0. -0. -0.  1.  0.  0.  0.  0. -0.]\n",
      " [ 0. -0.  1. -0. -0. -0.  0. -0.  0.  0. -0.  0.  0.  0. -0.  0.]\n",
      " [-0.  0. -0.  0.  0.  0.  1.  0.  0. -0. -0.  0.  0.  0. -0.  0.]\n",
      " [-0.  0.  0. -0. -0. -0. -0.  1.  0. -0. -0. -0.  0.  0.  0.  0.]\n",
      " [ 0.  0. -0. -0. -0. -0. -0. -0. -0. -0. -0.  0.  1.  0.  0. -0.]\n",
      " [ 0. -0. -0.  0. -0.  0.  0.  0. -0.  1.  0. -0.  0. -0.  0. -0.]\n",
      " [-0. -0.  0. -0.  1.  0. -0.  0.  0.  0. -0.  0.  0.  0. -0. -0.]\n",
      " [-0.  0. -0.  0. -0.  0. -0.  0. -0.  0. -0.  1. -0. -0.  0. -0.]\n",
      " [ 0. -0. -0.  0. -0.  0. -0. -0.  1.  0.  0.  0.  0.  0. -0. -0.]\n",
      " [ 0. -0. -0.  0. -0. -0. -0.  0. -0.  0. -0.  0. -0.  1. -0. -0.]\n",
      " [ 0.  0.  0.  0.  0. -0.  0. -0.  0. -0. -0. -0. -0.  0.  1.  0.]\n",
      " [-0. -0. -0. -0.  0. -0. -0. -0.  0.  0.  0.  0.  0.  0. -0.  1.]]\n"
     ]
    }
   ],
   "source": [
    "U_compiled = np.around(cir.U.numpy().real, 1)\n",
    "print(U_compiled)"
   ]
  },
  {
   "cell_type": "markdown",
   "metadata": {},
   "source": [
    "### Sanity Check"
   ]
  },
  {
   "cell_type": "code",
   "execution_count": 76,
   "metadata": {},
   "outputs": [
    {
     "name": "stdout",
     "output_type": "stream",
     "text": [
      "Random state = \n",
      " [0.+0.j 1.+0.j 0.+0.j 0.+0.j 0.+0.j 0.+0.j 0.+0.j 0.+0.j 0.+0.j 0.+0.j\n",
      " 0.+0.j 0.+0.j 0.+0.j 0.+0.j 0.+0.j 0.+0.j]\n",
      "The target state = \n",
      " [0.+0.j 0.+0.j 0.+0.j 1.+0.j 0.+0.j 0.+0.j 0.+0.j 0.+0.j 0.+0.j 0.+0.j\n",
      " 0.+0.j 0.+0.j 0.+0.j 0.+0.j 0.+0.j 0.+0.j]\n",
      "\n",
      "=========================================\n",
      "[0.+0.j 0.+0.j 0.+0.j 0.+0.j 0.+0.j 0.+0.j 0.+0.j 0.+0.j 0.+0.j 0.+0.j\n",
      " 0.+0.j 0.+0.j 0.+0.j 0.+0.j 0.+0.j 0.+0.j]\n"
     ]
    }
   ],
   "source": [
    "# Create state <0001|\n",
    "cir1 = UAnsatz(N)\n",
    "cir1.basis_encoding(paddle.to_tensor([0, 0, 0, 1]))\n",
    "v1 = cir1.run_state_vector()\n",
    "print(\"Random state = \\n\", v1.numpy())\n",
    "\n",
    "# Create state <0011|\n",
    "cir2 = UAnsatz(N)\n",
    "cir2.basis_encoding(paddle.to_tensor([0, 0, 1, 1]))\n",
    "v2 = cir2.run_state_vector()\n",
    "print(\"The target state = \\n\", v2.numpy())\n",
    "\n",
    "# Sanity Check <0001|U^\\dagger =? <0011|\n",
    "print(\"\\n=========================================\")\n",
    "print(v1.numpy()@U_compiled - v2.numpy())"
   ]
  },
  {
   "cell_type": "markdown",
   "metadata": {},
   "source": [
    "YES! It works! Please feel free to check all the other transformations. "
   ]
  },
  {
   "cell_type": "markdown",
   "metadata": {},
   "source": [
    "## Discussion\n",
    "\n",
    "The final trained circuit has a block depth of $D=40$ which looks very messy if we print it out... But all the parameters can be accessed through the following code if necessary:"
   ]
  },
  {
   "cell_type": "code",
   "execution_count": 78,
   "metadata": {},
   "outputs": [],
   "source": [
    "# For more data visualization purpose\n",
    "\n",
    "# theta_opt = net.theta.numpy()\n",
    "# print(\"The trained parameter theta:\\n\", np.around(theta_opt, decimals=5))"
   ]
  },
  {
   "cell_type": "markdown",
   "metadata": {},
   "source": [
    "We know the circuit architecture can always be improved. I didn't do that part because of the time constraint. Now, let's anser the question ``What would happen if you provided a different state\"?"
   ]
  },
  {
   "cell_type": "code",
   "execution_count": 79,
   "metadata": {},
   "outputs": [
    {
     "name": "stdout",
     "output_type": "stream",
     "text": [
      "Random state = \n",
      " [0.+0.j 0.+0.j 0.+0.j 0.+0.j 0.+0.j 0.+0.j 0.+0.j 0.+0.j 0.+0.j 1.+0.j\n",
      " 0.+0.j 0.+0.j 0.+0.j 0.+0.j 0.+0.j 0.+0.j]\n",
      "\n",
      "=========================================\n",
      "[0.+0.j 0.+0.j 0.+0.j 0.+0.j 0.+0.j 0.+0.j 0.+0.j 0.+0.j 0.+0.j 1.+0.j\n",
      " 0.+0.j 0.+0.j 0.+0.j 0.+0.j 0.+0.j 0.+0.j]\n"
     ]
    }
   ],
   "source": [
    "# Create state <1001|\n",
    "cir3 = UAnsatz(N)\n",
    "cir3.basis_encoding(paddle.to_tensor([1, 0, 0, 1]))\n",
    "v3 = cir3.run_state_vector()\n",
    "print(\"Random state = \\n\", v3.numpy())\n",
    "\n",
    "# Sanity Check <0001|U^\\dagger =? <0011|\n",
    "print(\"\\n=========================================\")\n",
    "print(v3.numpy()@U_compiled)"
   ]
  },
  {
   "cell_type": "markdown",
   "metadata": {},
   "source": [
    "With this approach of circuit compiling, I already set all the other computation basis unchanged. Here is what would happen if we send a general state $|\\Psi\\rangle = \\sum_{i=0}^{2^N-1} C_i|i\\rangle$ through the circuit:\n",
    "\n",
    "$$\n",
    "U_\\theta |\\Psi\\rangle = \\sum_{|i\\rangle \\in S} C_i\\cdot U_p |i\\rangle + \\sum_{|i\\rangle \\notin S} C_i\\cdot I |i\\rangle, \\quad |C_i|^2=1.\n",
    "\\tag{7}\n",
    "$$"
   ]
  },
  {
   "cell_type": "markdown",
   "metadata": {},
   "source": [
    "## Other approaches -- Variational Quantum Classifier\n",
    "\n",
    "- Assign a label to each input random state $S = \\{(|\\psi_0\\rangle, y_0=0), (|\\psi_1\\rangle, y_1=1), (|\\psi_2\\rangle, y_2=2), (|\\psi_3\\rangle, y_3=3)\\}$\n",
    "- Train a Quantum Classifier $\\tilde{y}_j = \\mathcal{F}(|\\psi_j\\rangle, y_j)$ to recoginze the states correctly with labels by minimizing $\\sum_j |\\tilde{y}_j - \\tilde{y}_j|^2$ or cross-entropy loss function\n",
    "- Use those labels $\\{\\tilde{y}_j\\}$ as an intermediate language (classical information) to control the generation fo those 4 targe states\n"
   ]
  }
 ],
 "metadata": {
  "kernelspec": {
   "display_name": "Python 3",
   "language": "python",
   "name": "python3"
  }
 },
 "nbformat": 4,
 "nbformat_minor": 4
}
